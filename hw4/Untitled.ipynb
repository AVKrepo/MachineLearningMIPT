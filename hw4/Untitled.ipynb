{
 "cells": [
  {
   "cell_type": "code",
   "execution_count": 1,
   "metadata": {},
   "outputs": [],
   "source": [
    "import pandas as pd\n",
    "import numpy as np\n",
    "from copy import deepcopy\n",
    "from sklearn.metrics import f1_score\n",
    "from sklearn.ensemble import RandomForestClassifier\n",
    "from sklearn.model_selection import KFold\n",
    "import xgboost as xgb\n",
    "from tqdm import tqdm"
   ]
  },
  {
   "cell_type": "code",
   "execution_count": 2,
   "metadata": {},
   "outputs": [],
   "source": [
    "folder = \"./\"\n",
    "train_file_path = folder + \"train.csv\"\n",
    "test_file_path = folder + \"test.csv\""
   ]
  },
  {
   "cell_type": "code",
   "execution_count": 3,
   "metadata": {},
   "outputs": [],
   "source": [
    "def load_data(filename, sep=','):\n",
    "    '''\n",
    "        Функция для загрузки датасета без инициализации класса. \n",
    "        \n",
    "        Возвращает:\n",
    "         data - полный DataFrame\n",
    "         fetures - список признаков для обучения/предсказания\n",
    "         x - датасет для тренировки/предсказания в формате np.array\n",
    "         y - целевой признак, если он есть. В случае с тестовым датасетом возвращает None\n",
    "    '''\n",
    "    data = pd.read_table(filename, sep=sep).dropna()    \n",
    "    \n",
    "    data = data[~(data['chainlen']>1000)]\n",
    "\n",
    "    if ('DSSR' in data.columns):\n",
    "        data.drop('DSSR', axis=1, inplace=True)    \n",
    "    \n",
    "    features = list(deepcopy(data.columns))\n",
    "    [features.remove(column) for column in ['Id','index', 'pdb_chain', 'mg'] if column in data.columns]\n",
    "    x_test = np.array(data[features])\n",
    "    \n",
    "    chains = np.array(data['pdb_chain'])\n",
    "    \n",
    "    try:\n",
    "        y_test = np.array(data['mg'])\n",
    "    except: \n",
    "        y_test = None\n",
    "    print('Data loaded')\n",
    "    return {'data': data, 'features': features, 'x': x_test, 'y': y_test, 'chains': chains}"
   ]
  },
  {
   "cell_type": "code",
   "execution_count": 4,
   "metadata": {},
   "outputs": [
    {
     "name": "stdout",
     "output_type": "stream",
     "text": [
      "Data loaded\n"
     ]
    }
   ],
   "source": [
    "train_data = load_data(train_file_path, sep='\\t')"
   ]
  },
  {
   "cell_type": "code",
   "execution_count": 5,
   "metadata": {},
   "outputs": [],
   "source": [
    "y = train_data['y']"
   ]
  },
  {
   "cell_type": "code",
   "execution_count": 6,
   "metadata": {},
   "outputs": [],
   "source": [
    "ratio = len(y[y == 0]) / len(y[y == 1]) "
   ]
  },
  {
   "cell_type": "code",
   "execution_count": 7,
   "metadata": {},
   "outputs": [],
   "source": [
    "def stratified_chain_kfold(data, n_splits=2, shuffle=True, random_state=42):\n",
    "    \"\"\"\n",
    "    Данная функция предназначена для разбиения выборки на тренировочную и тестовую с учетом принадлежности\n",
    "    объектов (атомов) к цепям.\n",
    "    Возвращает генератор тренировочных и тестовых индексов.\n",
    "    \"\"\"\n",
    "    chains = np.unique(data['chains'])\n",
    "    kf = KFold(n_splits=n_splits, shuffle=shuffle, random_state=random_state)\n",
    "    for train_kf, test_kf in kf.split(chains):\n",
    "        train_chains = chains[train_kf]\n",
    "        test_chains = chains[test_kf]\n",
    "        train, test = np.array([], dtype=int), np.array([], dtype=int)\n",
    "        for chain in train_chains:\n",
    "            train = np.append(train, np.argwhere(data['chains'] == chain))\n",
    "        for chain in test_chains:\n",
    "            test = np.append(test, np.argwhere(data['chains'] == chain))\n",
    "        yield (train, test)"
   ]
  },
  {
   "cell_type": "code",
   "execution_count": 8,
   "metadata": {},
   "outputs": [],
   "source": [
    "def cross_val_score(estimator, data, scoring):\n",
    "    result = []\n",
    "    for train, test in tqdm(stratified_chain_kfold(data)):\n",
    "        X_train, y_train = data['x'][train], data['y'][train]\n",
    "        X_test, y_test = data['x'][test], data['y'][test]\n",
    "        estimator.fit(X_train, y_train)\n",
    "        result.append(scoring(y_test, estimator.predict(X_test)))\n",
    "        print(result[-1])\n",
    "    return np.array(result)"
   ]
  },
  {
   "cell_type": "code",
   "execution_count": null,
   "metadata": {},
   "outputs": [
    {
     "name": "stderr",
     "output_type": "stream",
     "text": [
      "\r",
      "0it [00:00, ?it/s]"
     ]
    }
   ],
   "source": [
    "clf = xgb.XGBClassifier(random_state=42, scale_pos_weight=ratio, learning_rate=0.05)\n",
    "cross_val_score(clf, train_data, f1_score)"
   ]
  },
  {
   "cell_type": "code",
   "execution_count": null,
   "metadata": {},
   "outputs": [],
   "source": [
    "clf.fit(train_data['x'], train_data['y'])"
   ]
  },
  {
   "cell_type": "code",
   "execution_count": null,
   "metadata": {},
   "outputs": [],
   "source": [
    "test_data = load_data(test_file_path, sep=',')"
   ]
  },
  {
   "cell_type": "code",
   "execution_count": null,
   "metadata": {},
   "outputs": [],
   "source": [
    "y_answer = clf.predict(test_data['x'])"
   ]
  },
  {
   "cell_type": "code",
   "execution_count": null,
   "metadata": {},
   "outputs": [],
   "source": [
    "df_answer = pd.read_csv(\"sample_submission.csv\")\n",
    "df_answer[\"mg\"] = y_answer"
   ]
  },
  {
   "cell_type": "code",
   "execution_count": null,
   "metadata": {},
   "outputs": [],
   "source": [
    "df_answer.tail()"
   ]
  },
  {
   "cell_type": "code",
   "execution_count": null,
   "metadata": {},
   "outputs": [],
   "source": [
    "df_answer.to_csv(\"to_submit.csv\", index=False)"
   ]
  },
  {
   "cell_type": "code",
   "execution_count": null,
   "metadata": {},
   "outputs": [],
   "source": []
  }
 ],
 "metadata": {
  "kernelspec": {
   "display_name": "ml-env",
   "language": "python",
   "name": "ml-env"
  },
  "language_info": {
   "codemirror_mode": {
    "name": "ipython",
    "version": 3
   },
   "file_extension": ".py",
   "mimetype": "text/x-python",
   "name": "python",
   "nbconvert_exporter": "python",
   "pygments_lexer": "ipython3",
   "version": "3.6.4"
  }
 },
 "nbformat": 4,
 "nbformat_minor": 2
}
