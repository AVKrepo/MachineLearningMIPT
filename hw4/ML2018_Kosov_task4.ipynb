{
  "nbformat": 4,
  "nbformat_minor": 0,
  "metadata": {
    "colab": {
      "name": "Untitled.ipynb",
      "version": "0.3.2",
      "views": {},
      "default_view": {},
      "provenance": [],
      "collapsed_sections": []
    },
    "kernelspec": {
      "name": "python3",
      "display_name": "Python 3"
    }
  },
  "cells": [
    {
      "metadata": {
        "id": "3lEUmm9-TwM1",
        "colab_type": "code",
        "colab": {
          "autoexec": {
            "startup": false,
            "wait_interval": 0
          },
          "output_extras": [
            {
              "item_id": 3
            }
          ],
          "base_uri": "https://localhost:8080/",
          "height": 126
        },
        "outputId": "75e69abe-28b4-439c-cd29-eb134510fb4b",
        "executionInfo": {
          "status": "ok",
          "timestamp": 1522267040337,
          "user_tz": -180,
          "elapsed": 6298,
          "user": {
            "displayName": "Александр Викторович Косов",
            "photoUrl": "https://lh3.googleusercontent.com/a/default-user=s128",
            "userId": "112513534953591700503"
          }
        }
      },
      "cell_type": "code",
      "source": [
        "!pip install tqdm\n",
        "!pip install kaggle"
      ],
      "execution_count": 1,
      "outputs": [
        {
          "output_type": "stream",
          "text": [
            "Requirement already satisfied: tqdm in /usr/local/lib/python3.6/dist-packages\n",
            "Requirement already satisfied: kaggle in /usr/local/lib/python3.6/dist-packages\n",
            "Requirement already satisfied: urllib3>=1.15 in /usr/local/lib/python3.6/dist-packages (from kaggle)\n",
            "Requirement already satisfied: python-dateutil in /usr/local/lib/python3.6/dist-packages (from kaggle)\n",
            "Requirement already satisfied: six>=1.10 in /usr/local/lib/python3.6/dist-packages (from kaggle)\n",
            "Requirement already satisfied: certifi in /usr/local/lib/python3.6/dist-packages (from kaggle)\n"
          ],
          "name": "stdout"
        }
      ]
    },
    {
      "metadata": {
        "id": "enm_50VTaGap",
        "colab_type": "code",
        "colab": {
          "autoexec": {
            "startup": false,
            "wait_interval": 0
          }
        }
      },
      "cell_type": "code",
      "source": [
        "# from googleapiclient.discovery import build\n",
        "# import io, os\n",
        "# from googleapiclient.http import MediaIoBaseDownload\n",
        "# from google.colab import auth\n",
        "\n",
        "# auth.authenticate_user()\n",
        "\n",
        "# drive_service = build('drive', 'v3')\n",
        "# results = drive_service.files().list(\n",
        "#         q=\"name = 'kaggle.json'\", fields=\"files(id)\").execute()\n",
        "# kaggle_api_key = results.get('files', [])\n",
        "\n",
        "# filename = \"/content/.kaggle/kaggle.json\"\n",
        "# os.makedirs(os.path.dirname(filename), exist_ok=True)\n",
        "\n",
        "# request = drive_service.files().get_media(fileId=kaggle_api_key[0]['id'])\n",
        "# fh = io.FileIO(filename, 'wb')\n",
        "# downloader = MediaIoBaseDownload(fh, request)\n",
        "# done = False\n",
        "# while done is False:\n",
        "#     status, done = downloader.next_chunk()\n",
        "#     print(\"Download %d%%.\" % int(status.progress() * 100))\n",
        "# os.chmod(filename, 600)"
      ],
      "execution_count": 0,
      "outputs": []
    },
    {
      "metadata": {
        "id": "87Y8xCjCain1",
        "colab_type": "code",
        "colab": {
          "autoexec": {
            "startup": false,
            "wait_interval": 0
          }
        }
      },
      "cell_type": "code",
      "source": [
        "# !kaggle competitions download -c ml-mipt-spring2018-1"
      ],
      "execution_count": 0,
      "outputs": []
    },
    {
      "metadata": {
        "id": "oTQNxzuWZ64t",
        "colab_type": "code",
        "colab": {
          "autoexec": {
            "startup": false,
            "wait_interval": 0
          }
        }
      },
      "cell_type": "code",
      "source": [
        "import pandas as pd\n",
        "import numpy as np\n",
        "from copy import deepcopy\n",
        "from sklearn.metrics import f1_score\n",
        "from sklearn.ensemble import RandomForestClassifier\n",
        "from sklearn.model_selection import KFold\n",
        "from sklearn.linear_model import SGDClassifier\n",
        "from sklearn.svm import LinearSVC\n",
        "import xgboost as xgb\n",
        "from tqdm import tqdm"
      ],
      "execution_count": 0,
      "outputs": []
    },
    {
      "metadata": {
        "id": "-ZhJyv6bTwNB",
        "colab_type": "code",
        "colab": {
          "autoexec": {
            "startup": false,
            "wait_interval": 0
          }
        }
      },
      "cell_type": "code",
      "source": [
        "folder = \".kaggle/competitions/ml-mipt-spring2018-1/\"\n",
        "train_file_path = folder + \"train.csv\"\n",
        "test_file_path = folder + \"test.csv\""
      ],
      "execution_count": 0,
      "outputs": []
    },
    {
      "metadata": {
        "id": "c-56RSPOTwNJ",
        "colab_type": "code",
        "colab": {
          "autoexec": {
            "startup": false,
            "wait_interval": 0
          }
        }
      },
      "cell_type": "code",
      "source": [
        "def load_data(filename, sep=','):\n",
        "    '''\n",
        "        Функция для загрузки датасета без инициализации класса. \n",
        "        \n",
        "        Возвращает:\n",
        "         data - полный DataFrame\n",
        "         fetures - список признаков для обучения/предсказания\n",
        "         x - датасет для тренировки/предсказания в формате np.array\n",
        "         y - целевой признак, если он есть. В случае с тестовым датасетом возвращает None\n",
        "    '''\n",
        "    data = pd.read_table(filename, sep=sep).dropna()    \n",
        "    \n",
        "    data = data[~(data['chainlen']>1000)]\n",
        "\n",
        "    if ('DSSR' in data.columns):\n",
        "        data.drop('DSSR', axis=1, inplace=True)    \n",
        "    \n",
        "    features = list(deepcopy(data.columns))\n",
        "    [features.remove(column) for column in ['Id','index', 'pdb_chain', 'mg'] if column in data.columns]\n",
        "    x_test = np.array(data[features])\n",
        "    \n",
        "    chains = np.array(data['pdb_chain'])\n",
        "    \n",
        "    try:\n",
        "        y_test = np.array(data['mg'])\n",
        "    except: \n",
        "        y_test = None\n",
        "    print('Data loaded')\n",
        "    return {'data': data, 'features': features, 'x': x_test, 'y': y_test, 'chains': chains}"
      ],
      "execution_count": 0,
      "outputs": []
    },
    {
      "metadata": {
        "id": "XC1YQJICTwNS",
        "colab_type": "code",
        "colab": {
          "autoexec": {
            "startup": false,
            "wait_interval": 0
          },
          "output_extras": [
            {
              "item_id": 1
            }
          ],
          "base_uri": "https://localhost:8080/",
          "height": 35
        },
        "outputId": "99011bde-a138-4c44-b7ae-410d44b6c473",
        "executionInfo": {
          "status": "ok",
          "timestamp": 1522267069716,
          "user_tz": -180,
          "elapsed": 22176,
          "user": {
            "displayName": "Александр Викторович Косов",
            "photoUrl": "https://lh3.googleusercontent.com/a/default-user=s128",
            "userId": "112513534953591700503"
          }
        }
      },
      "cell_type": "code",
      "source": [
        "train_data = load_data(train_file_path, sep='\\t')"
      ],
      "execution_count": 7,
      "outputs": [
        {
          "output_type": "stream",
          "text": [
            "Data loaded\n"
          ],
          "name": "stdout"
        }
      ]
    },
    {
      "metadata": {
        "id": "iKqD-bznTwNh",
        "colab_type": "code",
        "colab": {
          "autoexec": {
            "startup": false,
            "wait_interval": 0
          }
        }
      },
      "cell_type": "code",
      "source": [
        "y = train_data['y']"
      ],
      "execution_count": 0,
      "outputs": []
    },
    {
      "metadata": {
        "id": "ZuZpfSwOTwNo",
        "colab_type": "code",
        "colab": {
          "autoexec": {
            "startup": false,
            "wait_interval": 0
          },
          "output_extras": [
            {
              "item_id": 1
            }
          ],
          "base_uri": "https://localhost:8080/",
          "height": 35
        },
        "outputId": "059666c2-0836-46da-ce39-e662a4748865",
        "executionInfo": {
          "status": "ok",
          "timestamp": 1522267071913,
          "user_tz": -180,
          "elapsed": 602,
          "user": {
            "displayName": "Александр Викторович Косов",
            "photoUrl": "https://lh3.googleusercontent.com/a/default-user=s128",
            "userId": "112513534953591700503"
          }
        }
      },
      "cell_type": "code",
      "source": [
        "ratio = len(y[y == 0]) / len(y[y == 1])\n",
        "print(ratio)"
      ],
      "execution_count": 9,
      "outputs": [
        {
          "output_type": "stream",
          "text": [
            "6.369751454257007\n"
          ],
          "name": "stdout"
        }
      ]
    },
    {
      "metadata": {
        "id": "92DsdhcdTwNu",
        "colab_type": "code",
        "colab": {
          "autoexec": {
            "startup": false,
            "wait_interval": 0
          }
        }
      },
      "cell_type": "code",
      "source": [
        "def stratified_chain_kfold(data, n_splits=2, shuffle=True, random_state=42):\n",
        "    \"\"\"\n",
        "    Данная функция предназначена для разбиения выборки на тренировочную и тестовую с учетом принадлежности\n",
        "    объектов (атомов) к цепям.\n",
        "    Возвращает генератор тренировочных и тестовых индексов.\n",
        "    \"\"\"\n",
        "    chains = np.unique(data['chains'])\n",
        "    kf = KFold(n_splits=n_splits, shuffle=shuffle, random_state=random_state)\n",
        "    for train_kf, test_kf in kf.split(chains):\n",
        "        train_chains = chains[train_kf]\n",
        "        test_chains = chains[test_kf]\n",
        "        train, test = np.array([], dtype=int), np.array([], dtype=int)\n",
        "        for chain in train_chains:\n",
        "            train = np.append(train, np.argwhere(data['chains'] == chain))\n",
        "        for chain in test_chains:\n",
        "            test = np.append(test, np.argwhere(data['chains'] == chain))\n",
        "        yield (train, test)"
      ],
      "execution_count": 0,
      "outputs": []
    },
    {
      "metadata": {
        "id": "eHnbf24sTwN1",
        "colab_type": "code",
        "colab": {
          "autoexec": {
            "startup": false,
            "wait_interval": 0
          }
        }
      },
      "cell_type": "code",
      "source": [
        "def cross_val_score(estimator, data, scoring):\n",
        "    result = []\n",
        "    for train, test in stratified_chain_kfold(data):\n",
        "        X_train, y_train = data['x'][train], data['y'][train]\n",
        "        X_test, y_test = data['x'][test], data['y'][test]\n",
        "        estimator.fit(X_train, y_train)\n",
        "        result.append(scoring(y_test, estimator.predict(X_test)))\n",
        "        print(\"Cross_val_score\", result[-1])\n",
        "    return np.array(result)"
      ],
      "execution_count": 0,
      "outputs": []
    },
    {
      "metadata": {
        "id": "i_At33nTmEgB",
        "colab_type": "code",
        "colab": {
          "autoexec": {
            "startup": false,
            "wait_interval": 0
          }
        }
      },
      "cell_type": "code",
      "source": [
        "class MyAnotherClassifier:\n",
        "    def __init__(self, n_estimators=100, random_state=42):\n",
        "        self.n_estimators = n_estimators\n",
        "        self.random_state = random_state\n",
        "    \n",
        "    def fit(self, X, y):\n",
        "        np.random.seed(seed=self.random_state)\n",
        "        self.base_algo = xgb.XGBClassifier(random_state=self.random_state, \n",
        "                                           n_estimators=self.n_estimators,\n",
        "                                           max_depth=9)\n",
        "        self.base_algo.fit(X, y)\n",
        "        importances = self.base_algo.feature_importances_\n",
        "        self.useful_features = np.argwhere(importances > 1 / X.shape[1]).flatten()\n",
        "        print(\"Len of useful_features\", len(self.useful_features))\n",
        "        X_train, y_train = X[:, self.useful_features], y\n",
        "        self.final_algo = xgb.XGBClassifier(random_state=self.random_state, \n",
        "                                            scale_pos_weight=ratio, \n",
        "                                            n_jobs=-1, \n",
        "                                            n_estimators=5 * self.n_estimators)\n",
        "        self.final_algo.fit(X_train, y_train)\n",
        "        return self\n",
        "            \n",
        "    def predict(self, X):\n",
        "        X_test = X[:, self.useful_features]\n",
        "        y = self.final_algo.predict(X_test)\n",
        "        return y"
      ],
      "execution_count": 0,
      "outputs": []
    },
    {
      "metadata": {
        "id": "Z5hViKKlTwEj",
        "colab_type": "code",
        "colab": {
          "autoexec": {
            "startup": false,
            "wait_interval": 0
          }
        }
      },
      "cell_type": "code",
      "source": [
        "import warnings\n",
        "warnings.filterwarnings('ignore')"
      ],
      "execution_count": 0,
      "outputs": []
    },
    {
      "metadata": {
        "id": "WUfQHb9PTwN7",
        "colab_type": "code",
        "colab": {
          "autoexec": {
            "startup": false,
            "wait_interval": 0
          }
        }
      },
      "cell_type": "code",
      "source": [
        "# clf = xgb.XGBClassifier(random_state=42, scale_pos_weight=6, n_jobs=-1)\n",
        "# print(cross_val_score(clf, train_data, f1_score))\n",
        "# clf = xgb.XGBClassifier(random_state=42, scale_pos_weight=6, n_jobs=-1, learning_rate=0.15)\n",
        "# print(cross_val_score(clf, train_data, f1_score))"
      ],
      "execution_count": 0,
      "outputs": []
    },
    {
      "metadata": {
        "id": "VcY0k5gWTwOH",
        "colab_type": "code",
        "colab": {
          "autoexec": {
            "startup": false,
            "wait_interval": 0
          }
        }
      },
      "cell_type": "code",
      "source": [
        "# %%time\n",
        "clf = MyAnotherClassifier(n_estimators=50)\n",
        "# print(cross_val_score(clf, train_data, f1_score))"
      ],
      "execution_count": 0,
      "outputs": []
    },
    {
      "metadata": {
        "id": "Hn5wtA5pTwOM",
        "colab_type": "code",
        "colab": {
          "autoexec": {
            "startup": false,
            "wait_interval": 0
          },
          "output_extras": [
            {
              "item_id": 2
            },
            {
              "item_id": 3
            }
          ],
          "base_uri": "https://localhost:8080/",
          "height": 90
        },
        "outputId": "75db2dee-6090-442f-ad67-0d0b2ac4f144",
        "executionInfo": {
          "status": "ok",
          "timestamp": 1522267464800,
          "user_tz": -180,
          "elapsed": 385893,
          "user": {
            "displayName": "Александр Викторович Косов",
            "photoUrl": "https://lh3.googleusercontent.com/a/default-user=s128",
            "userId": "112513534953591700503"
          }
        }
      },
      "cell_type": "code",
      "source": [
        "%%time\n",
        "clf.fit(train_data['x'], train_data['y'])"
      ],
      "execution_count": 16,
      "outputs": [
        {
          "output_type": "stream",
          "text": [
            "Len of useful_features 131\n",
            "CPU times: user 6min 23s, sys: 711 ms, total: 6min 24s\n",
            "Wall time: 6min 25s\n"
          ],
          "name": "stdout"
        },
        {
          "output_type": "execute_result",
          "data": {
            "text/plain": [
              "<__main__.MyAnotherClassifier at 0x7fa9b3cc4908>"
            ]
          },
          "metadata": {
            "tags": []
          },
          "execution_count": 16
        }
      ]
    },
    {
      "metadata": {
        "id": "NnveDxxDTwOX",
        "colab_type": "code",
        "colab": {
          "autoexec": {
            "startup": false,
            "wait_interval": 0
          },
          "output_extras": [
            {
              "item_id": 1
            }
          ],
          "base_uri": "https://localhost:8080/",
          "height": 35
        },
        "outputId": "9e57422b-9d90-4d56-be1f-31c5bd5de8eb",
        "executionInfo": {
          "status": "ok",
          "timestamp": 1522267466757,
          "user_tz": -180,
          "elapsed": 1874,
          "user": {
            "displayName": "Александр Викторович Косов",
            "photoUrl": "https://lh3.googleusercontent.com/a/default-user=s128",
            "userId": "112513534953591700503"
          }
        }
      },
      "cell_type": "code",
      "source": [
        "test_data = load_data(test_file_path, sep=',')"
      ],
      "execution_count": 17,
      "outputs": [
        {
          "output_type": "stream",
          "text": [
            "Data loaded\n"
          ],
          "name": "stdout"
        }
      ]
    },
    {
      "metadata": {
        "id": "o623VO2VTwOe",
        "colab_type": "code",
        "colab": {
          "autoexec": {
            "startup": false,
            "wait_interval": 0
          }
        }
      },
      "cell_type": "code",
      "source": [
        "y_answer = clf.predict(test_data['x'])"
      ],
      "execution_count": 0,
      "outputs": []
    },
    {
      "metadata": {
        "id": "NiubKBjmm3Ia",
        "colab_type": "code",
        "colab": {
          "autoexec": {
            "startup": false,
            "wait_interval": 0
          },
          "output_extras": [
            {
              "item_id": 1
            }
          ],
          "base_uri": "https://localhost:8080/",
          "height": 35
        },
        "outputId": "80059ce2-532b-4ba1-e6e3-1c6fb740215e",
        "executionInfo": {
          "status": "ok",
          "timestamp": 1522267473627,
          "user_tz": -180,
          "elapsed": 1580,
          "user": {
            "displayName": "Александр Викторович Косов",
            "photoUrl": "https://lh3.googleusercontent.com/a/default-user=s128",
            "userId": "112513534953591700503"
          }
        }
      },
      "cell_type": "code",
      "source": [
        "len(y_answer[y_answer == 0]) / len(y_answer[y_answer == 1]), ratio "
      ],
      "execution_count": 19,
      "outputs": [
        {
          "output_type": "execute_result",
          "data": {
            "text/plain": [
              "(5.1010558069381595, 6.369751454257007)"
            ]
          },
          "metadata": {
            "tags": []
          },
          "execution_count": 19
        }
      ]
    },
    {
      "metadata": {
        "id": "U5eektyBTwOq",
        "colab_type": "code",
        "colab": {
          "autoexec": {
            "startup": false,
            "wait_interval": 0
          }
        }
      },
      "cell_type": "code",
      "source": [
        "df_answer = pd.read_csv(folder + \"sample_submission.csv\")\n",
        "df_answer[\"mg\"] = y_answer"
      ],
      "execution_count": 0,
      "outputs": []
    },
    {
      "metadata": {
        "id": "Oi0NHc18TwO0",
        "colab_type": "code",
        "colab": {
          "autoexec": {
            "startup": false,
            "wait_interval": 0
          },
          "output_extras": [
            {
              "item_id": 1
            }
          ],
          "base_uri": "https://localhost:8080/",
          "height": 198
        },
        "outputId": "1e0053b1-6ced-4ad8-9482-ff18f49ea5dd",
        "executionInfo": {
          "status": "ok",
          "timestamp": 1522267478068,
          "user_tz": -180,
          "elapsed": 918,
          "user": {
            "displayName": "Александр Викторович Косов",
            "photoUrl": "https://lh3.googleusercontent.com/a/default-user=s128",
            "userId": "112513534953591700503"
          }
        }
      },
      "cell_type": "code",
      "source": [
        "df_answer.tail()"
      ],
      "execution_count": 21,
      "outputs": [
        {
          "output_type": "execute_result",
          "data": {
            "text/html": [
              "<div>\n",
              "<style scoped>\n",
              "    .dataframe tbody tr th:only-of-type {\n",
              "        vertical-align: middle;\n",
              "    }\n",
              "\n",
              "    .dataframe tbody tr th {\n",
              "        vertical-align: top;\n",
              "    }\n",
              "\n",
              "    .dataframe thead th {\n",
              "        text-align: right;\n",
              "    }\n",
              "</style>\n",
              "<table border=\"1\" class=\"dataframe\">\n",
              "  <thead>\n",
              "    <tr style=\"text-align: right;\">\n",
              "      <th></th>\n",
              "      <th>Id</th>\n",
              "      <th>mg</th>\n",
              "    </tr>\n",
              "  </thead>\n",
              "  <tbody>\n",
              "    <tr>\n",
              "      <th>4040</th>\n",
              "      <td>4040</td>\n",
              "      <td>0</td>\n",
              "    </tr>\n",
              "    <tr>\n",
              "      <th>4041</th>\n",
              "      <td>4041</td>\n",
              "      <td>0</td>\n",
              "    </tr>\n",
              "    <tr>\n",
              "      <th>4042</th>\n",
              "      <td>4042</td>\n",
              "      <td>0</td>\n",
              "    </tr>\n",
              "    <tr>\n",
              "      <th>4043</th>\n",
              "      <td>4043</td>\n",
              "      <td>0</td>\n",
              "    </tr>\n",
              "    <tr>\n",
              "      <th>4044</th>\n",
              "      <td>4044</td>\n",
              "      <td>0</td>\n",
              "    </tr>\n",
              "  </tbody>\n",
              "</table>\n",
              "</div>"
            ],
            "text/plain": [
              "        Id  mg\n",
              "4040  4040   0\n",
              "4041  4041   0\n",
              "4042  4042   0\n",
              "4043  4043   0\n",
              "4044  4044   0"
            ]
          },
          "metadata": {
            "tags": []
          },
          "execution_count": 21
        }
      ]
    },
    {
      "metadata": {
        "id": "Zo6Q1ZNzTwO9",
        "colab_type": "code",
        "colab": {
          "autoexec": {
            "startup": false,
            "wait_interval": 0
          }
        }
      },
      "cell_type": "code",
      "source": [
        "df_answer.to_csv(\"to_submit.csv\", index=False)"
      ],
      "execution_count": 0,
      "outputs": []
    },
    {
      "metadata": {
        "id": "YqQdbM49i1o2",
        "colab_type": "code",
        "colab": {
          "autoexec": {
            "startup": false,
            "wait_interval": 0
          }
        }
      },
      "cell_type": "code",
      "source": [
        "from google.colab import files\n",
        "files.download(\"to_submit.csv\")"
      ],
      "execution_count": 0,
      "outputs": []
    },
    {
      "metadata": {
        "id": "MQfAJz6U0MKj",
        "colab_type": "code",
        "colab": {
          "autoexec": {
            "startup": false,
            "wait_interval": 0
          }
        }
      },
      "cell_type": "code",
      "source": [
        ""
      ],
      "execution_count": 0,
      "outputs": []
    }
  ]
}