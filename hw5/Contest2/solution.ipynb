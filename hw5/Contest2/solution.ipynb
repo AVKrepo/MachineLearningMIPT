{
 "cells": [
  {
   "cell_type": "code",
   "execution_count": 9,
   "metadata": {},
   "outputs": [],
   "source": [
    "import pandas as pd\n",
    "import numpy as np\n",
    "\n",
    "from sklearn.preprocessing import LabelEncoder\n",
    "from sklearn.feature_extraction.text import CountVectorizer, TfidfTransformer\n",
    "from sklearn.pipeline import Pipeline\n",
    "from sklearn.linear_model import SGDClassifier, LogisticRegression\n",
    "from sklearn.svm import SVC\n",
    "from sklearn.model_selection import GridSearchCV\n",
    "\n",
    "import re"
   ]
  },
  {
   "cell_type": "markdown",
   "metadata": {},
   "source": [
    "# Reading train data"
   ]
  },
  {
   "cell_type": "code",
   "execution_count": 10,
   "metadata": {},
   "outputs": [
    {
     "data": {
      "text/html": [
       "<div>\n",
       "<style scoped>\n",
       "    .dataframe tbody tr th:only-of-type {\n",
       "        vertical-align: middle;\n",
       "    }\n",
       "\n",
       "    .dataframe tbody tr th {\n",
       "        vertical-align: top;\n",
       "    }\n",
       "\n",
       "    .dataframe thead th {\n",
       "        text-align: right;\n",
       "    }\n",
       "</style>\n",
       "<table border=\"1\" class=\"dataframe\">\n",
       "  <thead>\n",
       "    <tr style=\"text-align: right;\">\n",
       "      <th></th>\n",
       "      <th>Unnamed: 0</th>\n",
       "      <th>author</th>\n",
       "      <th>content</th>\n",
       "      <th>sentiment</th>\n",
       "    </tr>\n",
       "  </thead>\n",
       "  <tbody>\n",
       "    <tr>\n",
       "      <th>0</th>\n",
       "      <td>26898</td>\n",
       "      <td>richardepryor</td>\n",
       "      <td>@treasaint salad stuff, some chillis, whatever...</td>\n",
       "      <td>happiness</td>\n",
       "    </tr>\n",
       "    <tr>\n",
       "      <th>1</th>\n",
       "      <td>27635</td>\n",
       "      <td>reese</td>\n",
       "      <td>@sunnyjamiel sunny, I'm a workin' on it. It's ...</td>\n",
       "      <td>neutral</td>\n",
       "    </tr>\n",
       "    <tr>\n",
       "      <th>2</th>\n",
       "      <td>3036</td>\n",
       "      <td>mutedriposte</td>\n",
       "      <td>@jolynnchew so early??</td>\n",
       "      <td>surprise</td>\n",
       "    </tr>\n",
       "    <tr>\n",
       "      <th>3</th>\n",
       "      <td>5604</td>\n",
       "      <td>sakizzie_1102</td>\n",
       "      <td>So now, I have conjunctivitis in my left eye. ...</td>\n",
       "      <td>sadness</td>\n",
       "    </tr>\n",
       "    <tr>\n",
       "      <th>4</th>\n",
       "      <td>36111</td>\n",
       "      <td>poptrash</td>\n",
       "      <td>Out and about in Deal, Kent. More sunshine req...</td>\n",
       "      <td>love</td>\n",
       "    </tr>\n",
       "  </tbody>\n",
       "</table>\n",
       "</div>"
      ],
      "text/plain": [
       "   Unnamed: 0         author  \\\n",
       "0       26898  richardepryor   \n",
       "1       27635          reese   \n",
       "2        3036   mutedriposte   \n",
       "3        5604  sakizzie_1102   \n",
       "4       36111       poptrash   \n",
       "\n",
       "                                             content  sentiment  \n",
       "0  @treasaint salad stuff, some chillis, whatever...  happiness  \n",
       "1  @sunnyjamiel sunny, I'm a workin' on it. It's ...    neutral  \n",
       "2                             @jolynnchew so early??   surprise  \n",
       "3  So now, I have conjunctivitis in my left eye. ...    sadness  \n",
       "4  Out and about in Deal, Kent. More sunshine req...       love  "
      ]
     },
     "execution_count": 10,
     "metadata": {},
     "output_type": "execute_result"
    }
   ],
   "source": [
    "train = pd.read_csv('data/train.csv')\n",
    "train.head()"
   ]
  },
  {
   "cell_type": "markdown",
   "metadata": {},
   "source": [
    "### Encoding target"
   ]
  },
  {
   "cell_type": "code",
   "execution_count": 11,
   "metadata": {},
   "outputs": [
    {
     "data": {
      "text/plain": [
       "array(['happiness', 'neutral', 'surprise', ..., 'fun', 'hate', 'love'],\n",
       "      dtype=object)"
      ]
     },
     "execution_count": 11,
     "metadata": {},
     "output_type": "execute_result"
    }
   ],
   "source": [
    "X_train = train['content'].values\n",
    "y_train = train['sentiment'].values\n",
    "y_train"
   ]
  },
  {
   "cell_type": "code",
   "execution_count": 12,
   "metadata": {},
   "outputs": [
    {
     "data": {
      "text/plain": [
       "array([ 5,  8, 11, ...,  4,  6,  7])"
      ]
     },
     "execution_count": 12,
     "metadata": {},
     "output_type": "execute_result"
    }
   ],
   "source": [
    "label_encoder = LabelEncoder()\n",
    "label_encoder.fit(y_train)\n",
    "y_train = label_encoder.transform(y_train)\n",
    "y_train"
   ]
  },
  {
   "cell_type": "code",
   "execution_count": 13,
   "metadata": {},
   "outputs": [],
   "source": [
    "def clean_text(X):\n",
    "    result = X.copy()\n",
    "    for i, text in enumerate(result):\n",
    "        result[i] = re.sub(r\"@[^\\s]*\", '', text)\n",
    "    return result"
   ]
  },
  {
   "cell_type": "code",
   "execution_count": 14,
   "metadata": {},
   "outputs": [
    {
     "name": "stdout",
     "output_type": "stream",
     "text": [
      "@treasaint salad stuff, some chillis, whatever my horti mate gives me really, think it will be fun to do\n",
      " salad stuff, some chillis, whatever my horti mate gives me really, think it will be fun to do\n"
     ]
    }
   ],
   "source": [
    "print(X_train[0])\n",
    "X_train = clean_text(X_train)\n",
    "print(X_train[0])"
   ]
  },
  {
   "cell_type": "markdown",
   "metadata": {},
   "source": [
    "### Testing classifiers"
   ]
  },
  {
   "cell_type": "code",
   "execution_count": 50,
   "metadata": {},
   "outputs": [],
   "source": [
    "pipeline = Pipeline([\n",
    "    ('vect', CountVectorizer()),\n",
    "    ('tfidf', TfidfTransformer()),\n",
    "    ('clf', LogisticRegression(random_state=0)),\n",
    "])"
   ]
  },
  {
   "cell_type": "code",
   "execution_count": 55,
   "metadata": {},
   "outputs": [
    {
     "data": {
      "text/plain": [
       "Pipeline(memory=None,\n",
       "     steps=[('vect', CountVectorizer(analyzer='word', binary=False, decode_error='strict',\n",
       "        dtype=<class 'numpy.int64'>, encoding='utf-8', input='content',\n",
       "        lowercase=True, max_df=1.0, max_features=None, min_df=1,\n",
       "        ngram_range=(1, 1), preprocessor=None, stop_words=None,\n",
       "        strip...  penalty='l2', random_state=0, solver='lbfgs', tol=0.0001,\n",
       "          verbose=0, warm_start=False))])"
      ]
     },
     "execution_count": 55,
     "metadata": {},
     "output_type": "execute_result"
    }
   ],
   "source": [
    "best_params = {\n",
    "    'tfidf__norm': 'l2', \n",
    "    'tfidf__smooth_idf': True, \n",
    "    'tfidf__sublinear_tf': False, \n",
    "    'tfidf__use_idf': False, \n",
    "    'vect__stop_words': None,\n",
    "    'clf__C': 2.0, \n",
    "    'clf__penalty': 'l2',\n",
    "    'clf__solver': 'lbfgs',\n",
    "}\n",
    "pipeline.set_params(**best_params)"
   ]
  },
  {
   "cell_type": "code",
   "execution_count": 56,
   "metadata": {},
   "outputs": [],
   "source": [
    "params = {\n",
    "#     'vect__analyzer': ['word', 'char', 'char_wb'],\n",
    "#     'vect__stop_words': [None, 'english'],\n",
    "#     'tfidf__norm': ['l1', 'l2'],\n",
    "#     'tfidf__use_idf': [True, False],\n",
    "#     'tfidf__smooth_idf': [True, False],\n",
    "#     'tfidf__sublinear_tf': [True, False],\n",
    "#     'clf__penalty': ['l1', 'l2'],\n",
    "    'clf__C': np.arange(1, 5, 0.5),\n",
    "#     'clf__class_weight': [None, 'balanced'],\n",
    "#     'clf__solver': ['newton-cg', 'lbfgs', 'liblinear', 'sag', 'saga'],\n",
    "#     'clf__multi_class': ['ovr', 'multinomial'],\n",
    "}"
   ]
  },
  {
   "cell_type": "code",
   "execution_count": 57,
   "metadata": {},
   "outputs": [
    {
     "name": "stdout",
     "output_type": "stream",
     "text": [
      "Fitting 5 folds for each of 8 candidates, totalling 40 fits\n",
      "[CV] clf__C=1.0 ......................................................\n",
      "[CV] clf__C=1.0 ......................................................\n",
      "[CV] clf__C=1.0 ......................................................\n",
      "[CV] clf__C=1.0 ......................................................\n",
      "[CV] clf__C=1.0 ......................................................\n",
      "[CV] clf__C=1.5 ......................................................\n",
      "[CV] clf__C=1.5 ......................................................\n",
      "[CV] ....................................... clf__C=1.0, total=  13.2s\n",
      "[CV] clf__C=1.5 ......................................................\n",
      "[CV] ....................................... clf__C=1.0, total=  13.9s\n",
      "[CV] clf__C=1.5 ......................................................\n",
      "[CV] ....................................... clf__C=1.0, total=  14.0s\n",
      "[CV] ....................................... clf__C=1.0, total=  14.0s\n",
      "[CV] clf__C=1.5 ......................................................\n",
      "[CV] clf__C=2.0 ......................................................\n",
      "[CV] ....................................... clf__C=1.0, total=  14.3s\n",
      "[CV] clf__C=2.0 ......................................................\n",
      "[CV] ....................................... clf__C=1.5, total=  14.7s\n",
      "[CV] clf__C=2.0 ......................................................\n",
      "[CV] ....................................... clf__C=1.5, total=  15.4s\n",
      "[CV] clf__C=2.0 ......................................................\n",
      "[CV] ....................................... clf__C=1.5, total=  14.1s\n",
      "[CV] clf__C=2.0 ......................................................\n",
      "[CV] ....................................... clf__C=1.5, total=  14.3s\n",
      "[CV] clf__C=2.5 ......................................................\n",
      "[CV] ....................................... clf__C=1.5, total=  14.7s\n",
      "[CV] clf__C=2.5 ......................................................\n",
      "[CV] ....................................... clf__C=2.0, total=  14.4s\n",
      "[CV] clf__C=2.5 ......................................................\n",
      "[CV] ....................................... clf__C=2.0, total=  15.1s\n",
      "[CV] clf__C=2.5 ......................................................\n",
      "[CV] ....................................... clf__C=2.0, total=  15.6s\n",
      "[CV] clf__C=2.5 ......................................................\n",
      "[CV] ....................................... clf__C=2.0, total=  15.8s\n",
      "[CV] clf__C=3.0 ......................................................\n",
      "[CV] ....................................... clf__C=2.0, total=  15.5s\n",
      "[CV] clf__C=3.0 ......................................................\n",
      "[CV] ....................................... clf__C=2.5, total=  15.8s\n",
      "[CV] clf__C=3.0 ......................................................\n",
      "[CV] ....................................... clf__C=2.5, total=  15.5s\n",
      "[CV] clf__C=3.0 ......................................................\n",
      "[CV] ....................................... clf__C=2.5, total=  16.0s\n",
      "[CV] clf__C=3.0 ......................................................\n",
      "[CV] ....................................... clf__C=2.5, total=  16.1s\n",
      "[CV] clf__C=3.5 ......................................................\n",
      "[CV] ....................................... clf__C=2.5, total=  16.4s\n",
      "[CV] clf__C=3.5 ......................................................\n",
      "[CV] ....................................... clf__C=3.0, total=  17.1s\n",
      "[CV] clf__C=3.5 ......................................................\n",
      "[CV] ....................................... clf__C=3.0, total=  17.4s\n",
      "[CV] clf__C=3.5 ......................................................\n",
      "[CV] ....................................... clf__C=3.0, total=  17.2s\n",
      "[CV] clf__C=3.5 ......................................................\n",
      "[CV] ....................................... clf__C=3.0, total=  18.2s\n",
      "[CV] clf__C=4.0 ......................................................\n",
      "[CV] ....................................... clf__C=3.0, total=  18.1s\n",
      "[CV] clf__C=4.0 ......................................................\n",
      "[CV] ....................................... clf__C=3.5, total=  18.0s\n",
      "[CV] clf__C=4.0 ......................................................\n",
      "[CV] ....................................... clf__C=3.5, total=  18.2s\n",
      "[CV] clf__C=4.0 ......................................................\n"
     ]
    },
    {
     "name": "stderr",
     "output_type": "stream",
     "text": [
      "[Parallel(n_jobs=-2)]: Done  27 tasks      | elapsed:  1.1min\n"
     ]
    },
    {
     "name": "stdout",
     "output_type": "stream",
     "text": [
      "[CV] ....................................... clf__C=3.5, total=  18.6s\n",
      "[CV] clf__C=4.0 ......................................................\n",
      "[CV] ....................................... clf__C=3.5, total=  16.7s\n",
      "[CV] clf__C=4.5 ......................................................\n",
      "[CV] ....................................... clf__C=3.5, total=  16.6s\n",
      "[CV] clf__C=4.5 ......................................................\n",
      "[CV] ....................................... clf__C=4.0, total=  16.7s\n",
      "[CV] clf__C=4.5 ......................................................\n",
      "[CV] ....................................... clf__C=4.0, total=  17.0s\n",
      "[CV] clf__C=4.5 ......................................................\n",
      "[CV] ....................................... clf__C=4.0, total=  17.4s\n",
      "[CV] clf__C=4.5 ......................................................\n",
      "[CV] ....................................... clf__C=4.0, total=  17.3s\n",
      "[CV] ....................................... clf__C=4.0, total=  16.6s\n",
      "[CV] ....................................... clf__C=4.5, total=  15.6s\n",
      "[CV] ....................................... clf__C=4.5, total=  15.0s\n",
      "[CV] ....................................... clf__C=4.5, total=  14.6s\n",
      "[CV] ....................................... clf__C=4.5, total=  14.8s\n",
      "[CV] ....................................... clf__C=4.5, total=  13.9s\n"
     ]
    },
    {
     "name": "stderr",
     "output_type": "stream",
     "text": [
      "[Parallel(n_jobs=-2)]: Done  40 out of  40 | elapsed:  1.6min finished\n"
     ]
    },
    {
     "data": {
      "text/plain": [
       "GridSearchCV(cv=5, error_score='raise',\n",
       "       estimator=Pipeline(memory=None,\n",
       "     steps=[('vect', CountVectorizer(analyzer='word', binary=False, decode_error='strict',\n",
       "        dtype=<class 'numpy.int64'>, encoding='utf-8', input='content',\n",
       "        lowercase=True, max_df=1.0, max_features=None, min_df=1,\n",
       "        ngram_range=(1, 1), preprocessor=None, stop_words=None,\n",
       "        strip...  penalty='l2', random_state=0, solver='lbfgs', tol=0.0001,\n",
       "          verbose=0, warm_start=False))]),\n",
       "       fit_params=None, iid=True, n_jobs=-2,\n",
       "       param_grid={'clf__C': array([1. , 1.5, 2. , 2.5, 3. , 3.5, 4. , 4.5])},\n",
       "       pre_dispatch='2*n_jobs', refit=True, return_train_score=False,\n",
       "       scoring='accuracy', verbose=2)"
      ]
     },
     "execution_count": 57,
     "metadata": {},
     "output_type": "execute_result"
    }
   ],
   "source": [
    "grid_search = GridSearchCV(pipeline, \n",
    "                           params, \n",
    "                           scoring='accuracy', \n",
    "                           n_jobs=-2, \n",
    "                           cv=5, \n",
    "                           verbose=2, \n",
    "                           return_train_score=False)\n",
    "grid_search.fit(X_train, y_train)"
   ]
  },
  {
   "cell_type": "code",
   "execution_count": 58,
   "metadata": {},
   "outputs": [
    {
     "name": "stdout",
     "output_type": "stream",
     "text": [
      "0.3549\n",
      "{'clf__C': 2.0}\n"
     ]
    },
    {
     "data": {
      "text/plain": [
       "Pipeline(memory=None,\n",
       "     steps=[('vect', CountVectorizer(analyzer='word', binary=False, decode_error='strict',\n",
       "        dtype=<class 'numpy.int64'>, encoding='utf-8', input='content',\n",
       "        lowercase=True, max_df=1.0, max_features=None, min_df=1,\n",
       "        ngram_range=(1, 1), preprocessor=None, stop_words=None,\n",
       "        strip...  penalty='l2', random_state=0, solver='lbfgs', tol=0.0001,\n",
       "          verbose=0, warm_start=False))])"
      ]
     },
     "execution_count": 58,
     "metadata": {},
     "output_type": "execute_result"
    }
   ],
   "source": [
    "print(grid_search.best_score_)\n",
    "print(grid_search.best_params_)\n",
    "grid_search.best_estimator_"
   ]
  },
  {
   "cell_type": "code",
   "execution_count": 59,
   "metadata": {},
   "outputs": [
    {
     "data": {
      "text/html": [
       "<div>\n",
       "<style scoped>\n",
       "    .dataframe tbody tr th:only-of-type {\n",
       "        vertical-align: middle;\n",
       "    }\n",
       "\n",
       "    .dataframe tbody tr th {\n",
       "        vertical-align: top;\n",
       "    }\n",
       "\n",
       "    .dataframe thead th {\n",
       "        text-align: right;\n",
       "    }\n",
       "</style>\n",
       "<table border=\"1\" class=\"dataframe\">\n",
       "  <thead>\n",
       "    <tr style=\"text-align: right;\">\n",
       "      <th></th>\n",
       "      <th>mean_fit_time</th>\n",
       "      <th>mean_score_time</th>\n",
       "      <th>mean_test_score</th>\n",
       "      <th>param_clf__C</th>\n",
       "      <th>params</th>\n",
       "      <th>rank_test_score</th>\n",
       "      <th>split0_test_score</th>\n",
       "      <th>split1_test_score</th>\n",
       "      <th>split2_test_score</th>\n",
       "      <th>split3_test_score</th>\n",
       "      <th>split4_test_score</th>\n",
       "      <th>std_fit_time</th>\n",
       "      <th>std_score_time</th>\n",
       "      <th>std_test_score</th>\n",
       "    </tr>\n",
       "  </thead>\n",
       "  <tbody>\n",
       "    <tr>\n",
       "      <th>0</th>\n",
       "      <td>13.690486</td>\n",
       "      <td>0.174507</td>\n",
       "      <td>0.352300</td>\n",
       "      <td>1</td>\n",
       "      <td>{'clf__C': 1.0}</td>\n",
       "      <td>5</td>\n",
       "      <td>0.357083</td>\n",
       "      <td>0.362227</td>\n",
       "      <td>0.346724</td>\n",
       "      <td>0.350117</td>\n",
       "      <td>0.345339</td>\n",
       "      <td>0.384889</td>\n",
       "      <td>0.037866</td>\n",
       "      <td>0.006414</td>\n",
       "    </tr>\n",
       "    <tr>\n",
       "      <th>1</th>\n",
       "      <td>14.456901</td>\n",
       "      <td>0.165663</td>\n",
       "      <td>0.353867</td>\n",
       "      <td>1.5</td>\n",
       "      <td>{'clf__C': 1.5}</td>\n",
       "      <td>3</td>\n",
       "      <td>0.360080</td>\n",
       "      <td>0.364227</td>\n",
       "      <td>0.347891</td>\n",
       "      <td>0.348449</td>\n",
       "      <td>0.348674</td>\n",
       "      <td>0.460494</td>\n",
       "      <td>0.003761</td>\n",
       "      <td>0.006899</td>\n",
       "    </tr>\n",
       "    <tr>\n",
       "      <th>2</th>\n",
       "      <td>15.120656</td>\n",
       "      <td>0.171945</td>\n",
       "      <td>0.354900</td>\n",
       "      <td>2</td>\n",
       "      <td>{'clf__C': 2.0}</td>\n",
       "      <td>1</td>\n",
       "      <td>0.360246</td>\n",
       "      <td>0.365894</td>\n",
       "      <td>0.349392</td>\n",
       "      <td>0.348283</td>\n",
       "      <td>0.350675</td>\n",
       "      <td>0.516921</td>\n",
       "      <td>0.043166</td>\n",
       "      <td>0.006949</td>\n",
       "    </tr>\n",
       "    <tr>\n",
       "      <th>3</th>\n",
       "      <td>15.831372</td>\n",
       "      <td>0.163036</td>\n",
       "      <td>0.354200</td>\n",
       "      <td>2.5</td>\n",
       "      <td>{'clf__C': 2.5}</td>\n",
       "      <td>2</td>\n",
       "      <td>0.362078</td>\n",
       "      <td>0.365061</td>\n",
       "      <td>0.350225</td>\n",
       "      <td>0.344948</td>\n",
       "      <td>0.348674</td>\n",
       "      <td>0.309636</td>\n",
       "      <td>0.005008</td>\n",
       "      <td>0.007899</td>\n",
       "    </tr>\n",
       "    <tr>\n",
       "      <th>4</th>\n",
       "      <td>17.395006</td>\n",
       "      <td>0.193604</td>\n",
       "      <td>0.353633</td>\n",
       "      <td>3</td>\n",
       "      <td>{'clf__C': 3.0}</td>\n",
       "      <td>4</td>\n",
       "      <td>0.360579</td>\n",
       "      <td>0.364561</td>\n",
       "      <td>0.351225</td>\n",
       "      <td>0.342447</td>\n",
       "      <td>0.349341</td>\n",
       "      <td>0.426830</td>\n",
       "      <td>0.029490</td>\n",
       "      <td>0.007962</td>\n",
       "    </tr>\n",
       "    <tr>\n",
       "      <th>5</th>\n",
       "      <td>17.443589</td>\n",
       "      <td>0.179183</td>\n",
       "      <td>0.352233</td>\n",
       "      <td>3.5</td>\n",
       "      <td>{'clf__C': 3.5}</td>\n",
       "      <td>6</td>\n",
       "      <td>0.358249</td>\n",
       "      <td>0.362560</td>\n",
       "      <td>0.351225</td>\n",
       "      <td>0.340614</td>\n",
       "      <td>0.348508</td>\n",
       "      <td>0.806218</td>\n",
       "      <td>0.019798</td>\n",
       "      <td>0.007651</td>\n",
       "    </tr>\n",
       "    <tr>\n",
       "      <th>6</th>\n",
       "      <td>16.812093</td>\n",
       "      <td>0.186742</td>\n",
       "      <td>0.350867</td>\n",
       "      <td>4</td>\n",
       "      <td>{'clf__C': 4.0}</td>\n",
       "      <td>7</td>\n",
       "      <td>0.355752</td>\n",
       "      <td>0.361727</td>\n",
       "      <td>0.349058</td>\n",
       "      <td>0.340447</td>\n",
       "      <td>0.347340</td>\n",
       "      <td>0.293907</td>\n",
       "      <td>0.039737</td>\n",
       "      <td>0.007295</td>\n",
       "    </tr>\n",
       "    <tr>\n",
       "      <th>7</th>\n",
       "      <td>14.680712</td>\n",
       "      <td>0.100489</td>\n",
       "      <td>0.348833</td>\n",
       "      <td>4.5</td>\n",
       "      <td>{'clf__C': 4.5}</td>\n",
       "      <td>8</td>\n",
       "      <td>0.355086</td>\n",
       "      <td>0.358393</td>\n",
       "      <td>0.347891</td>\n",
       "      <td>0.336612</td>\n",
       "      <td>0.346173</td>\n",
       "      <td>0.503196</td>\n",
       "      <td>0.033044</td>\n",
       "      <td>0.007587</td>\n",
       "    </tr>\n",
       "  </tbody>\n",
       "</table>\n",
       "</div>"
      ],
      "text/plain": [
       "   mean_fit_time  mean_score_time  mean_test_score param_clf__C  \\\n",
       "0      13.690486         0.174507         0.352300            1   \n",
       "1      14.456901         0.165663         0.353867          1.5   \n",
       "2      15.120656         0.171945         0.354900            2   \n",
       "3      15.831372         0.163036         0.354200          2.5   \n",
       "4      17.395006         0.193604         0.353633            3   \n",
       "5      17.443589         0.179183         0.352233          3.5   \n",
       "6      16.812093         0.186742         0.350867            4   \n",
       "7      14.680712         0.100489         0.348833          4.5   \n",
       "\n",
       "            params  rank_test_score  split0_test_score  split1_test_score  \\\n",
       "0  {'clf__C': 1.0}                5           0.357083           0.362227   \n",
       "1  {'clf__C': 1.5}                3           0.360080           0.364227   \n",
       "2  {'clf__C': 2.0}                1           0.360246           0.365894   \n",
       "3  {'clf__C': 2.5}                2           0.362078           0.365061   \n",
       "4  {'clf__C': 3.0}                4           0.360579           0.364561   \n",
       "5  {'clf__C': 3.5}                6           0.358249           0.362560   \n",
       "6  {'clf__C': 4.0}                7           0.355752           0.361727   \n",
       "7  {'clf__C': 4.5}                8           0.355086           0.358393   \n",
       "\n",
       "   split2_test_score  split3_test_score  split4_test_score  std_fit_time  \\\n",
       "0           0.346724           0.350117           0.345339      0.384889   \n",
       "1           0.347891           0.348449           0.348674      0.460494   \n",
       "2           0.349392           0.348283           0.350675      0.516921   \n",
       "3           0.350225           0.344948           0.348674      0.309636   \n",
       "4           0.351225           0.342447           0.349341      0.426830   \n",
       "5           0.351225           0.340614           0.348508      0.806218   \n",
       "6           0.349058           0.340447           0.347340      0.293907   \n",
       "7           0.347891           0.336612           0.346173      0.503196   \n",
       "\n",
       "   std_score_time  std_test_score  \n",
       "0        0.037866        0.006414  \n",
       "1        0.003761        0.006899  \n",
       "2        0.043166        0.006949  \n",
       "3        0.005008        0.007899  \n",
       "4        0.029490        0.007962  \n",
       "5        0.019798        0.007651  \n",
       "6        0.039737        0.007295  \n",
       "7        0.033044        0.007587  "
      ]
     },
     "execution_count": 59,
     "metadata": {},
     "output_type": "execute_result"
    }
   ],
   "source": [
    "pd.DataFrame(grid_search.cv_results_)"
   ]
  },
  {
   "cell_type": "markdown",
   "metadata": {},
   "source": [
    "# Final Classifier"
   ]
  },
  {
   "cell_type": "code",
   "execution_count": null,
   "metadata": {},
   "outputs": [],
   "source": [
    "estimator = Pipeline([\n",
    "    ('vect', CountVectorizer()),\n",
    "    ('tfidf', TfidfTransformer()),\n",
    "    ('clf', LogisticRegression(random_state=0)),\n",
    "])\n",
    "best_params = {\n",
    "    'tfidf__norm': 'l2', \n",
    "    'tfidf__smooth_idf': True, \n",
    "    'tfidf__sublinear_tf': False, \n",
    "    'tfidf__use_idf': False, \n",
    "    'vect__stop_words': None,\n",
    "    'clf__C': 2.154434690031882, \n",
    "    'clf__penalty': 'l2',\n",
    "    'clf__solver': 'lbfgs',\n",
    "}\n",
    "estimator.set_params(**best_params)\n",
    "estimator.fit(X_train, y_train)"
   ]
  },
  {
   "cell_type": "markdown",
   "metadata": {},
   "source": [
    "# Test data estimation"
   ]
  },
  {
   "cell_type": "code",
   "execution_count": null,
   "metadata": {},
   "outputs": [],
   "source": [
    "test = pd.read_csv('./data/test.csv')\n",
    "X_test = test['content'].values"
   ]
  },
  {
   "cell_type": "code",
   "execution_count": null,
   "metadata": {},
   "outputs": [],
   "source": [
    "X_test = clean_text(X_test)"
   ]
  },
  {
   "cell_type": "code",
   "execution_count": null,
   "metadata": {},
   "outputs": [],
   "source": [
    "test_predict = estimator.predict(X_test)\n",
    "test_predict = label_encoder.inverse_transform(test_predict)\n",
    "print(test_predict)"
   ]
  },
  {
   "cell_type": "code",
   "execution_count": null,
   "metadata": {},
   "outputs": [],
   "source": [
    "test['sentiment'] = test_predict\n",
    "test[['id', 'sentiment']].to_csv('new.csv', sep=',', index=False)"
   ]
  }
 ],
 "metadata": {
  "kernelspec": {
   "display_name": "ml-env",
   "language": "python",
   "name": "ml-env"
  },
  "language_info": {
   "codemirror_mode": {
    "name": "ipython",
    "version": 3
   },
   "file_extension": ".py",
   "mimetype": "text/x-python",
   "name": "python",
   "nbconvert_exporter": "python",
   "pygments_lexer": "ipython3",
   "version": "3.6.5"
  }
 },
 "nbformat": 4,
 "nbformat_minor": 2
}
